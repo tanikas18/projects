{
 "cells": [
  {
   "cell_type": "markdown",
   "id": "f3424ba8",
   "metadata": {},
   "source": [
    "# Python Assignment"
   ]
  },
  {
   "cell_type": "code",
   "execution_count": 1,
   "id": "fcc1a3d4",
   "metadata": {},
   "outputs": [],
   "source": [
    "import pandas as pd #To read data files\n",
    "from matplotlib import pyplot as plt #For charts and Graphs old Library\n",
    "from matplotlib import style #Colours\n",
    "import seaborn as sn #for charts and Graphs advanced Library\n",
    "import numpy as np #For mathematical Operations\n",
    "import statsmodels.api as sm #Estimate statistical models and perform statistical tests\n",
    "from scipy import stats #Scipy is a library and Stats is a module which has t-test, ANOVA and Regression\n",
    "from sklearn.model_selection import train_test_split #train and test Split\n",
    "from scipy.stats import f_oneway #one way ANOVA\n",
    "import warnings #for userwarnings"
   ]
  },
  {
   "cell_type": "markdown",
   "id": "29a11d78",
   "metadata": {},
   "source": [
    "## Creating DataFrame"
   ]
  },
  {
   "cell_type": "code",
   "execution_count": 3,
   "id": "9462c61b",
   "metadata": {},
   "outputs": [
    {
     "data": {
      "text/html": [
       "<div>\n",
       "<style scoped>\n",
       "    .dataframe tbody tr th:only-of-type {\n",
       "        vertical-align: middle;\n",
       "    }\n",
       "\n",
       "    .dataframe tbody tr th {\n",
       "        vertical-align: top;\n",
       "    }\n",
       "\n",
       "    .dataframe thead th {\n",
       "        text-align: right;\n",
       "    }\n",
       "</style>\n",
       "<table border=\"1\" class=\"dataframe\">\n",
       "  <thead>\n",
       "    <tr style=\"text-align: right;\">\n",
       "      <th></th>\n",
       "      <th>SlNo</th>\n",
       "      <th>Release Date</th>\n",
       "      <th>Moviename</th>\n",
       "      <th>Releasetime</th>\n",
       "      <th>Genre</th>\n",
       "      <th>Budget</th>\n",
       "      <th>BoxOfficecollection</th>\n",
       "      <th>Youtubeviews</th>\n",
       "      <th>Youtubelikes</th>\n",
       "      <th>Youtubedislikes</th>\n",
       "    </tr>\n",
       "  </thead>\n",
       "  <tbody>\n",
       "    <tr>\n",
       "      <th>0</th>\n",
       "      <td>1</td>\n",
       "      <td>2014-04-18</td>\n",
       "      <td>2 States</td>\n",
       "      <td>LW</td>\n",
       "      <td>Romance</td>\n",
       "      <td>36</td>\n",
       "      <td>104.00</td>\n",
       "      <td>8576361</td>\n",
       "      <td>26622</td>\n",
       "      <td>2527</td>\n",
       "    </tr>\n",
       "    <tr>\n",
       "      <th>1</th>\n",
       "      <td>2</td>\n",
       "      <td>2013-01-04</td>\n",
       "      <td>Table No. 21</td>\n",
       "      <td>N</td>\n",
       "      <td>Thriller</td>\n",
       "      <td>10</td>\n",
       "      <td>12.00</td>\n",
       "      <td>1087320</td>\n",
       "      <td>1129</td>\n",
       "      <td>137</td>\n",
       "    </tr>\n",
       "    <tr>\n",
       "      <th>2</th>\n",
       "      <td>3</td>\n",
       "      <td>2014-07-18</td>\n",
       "      <td>Amit Sahni Ki List</td>\n",
       "      <td>N</td>\n",
       "      <td>Comedy</td>\n",
       "      <td>10</td>\n",
       "      <td>4.00</td>\n",
       "      <td>572336</td>\n",
       "      <td>586</td>\n",
       "      <td>54</td>\n",
       "    </tr>\n",
       "    <tr>\n",
       "      <th>3</th>\n",
       "      <td>4</td>\n",
       "      <td>2013-01-04</td>\n",
       "      <td>Rajdhani Express</td>\n",
       "      <td>N</td>\n",
       "      <td>Drama</td>\n",
       "      <td>7</td>\n",
       "      <td>0.35</td>\n",
       "      <td>42626</td>\n",
       "      <td>86</td>\n",
       "      <td>19</td>\n",
       "    </tr>\n",
       "    <tr>\n",
       "      <th>4</th>\n",
       "      <td>5</td>\n",
       "      <td>2014-07-04</td>\n",
       "      <td>Bobby Jasoos</td>\n",
       "      <td>N</td>\n",
       "      <td>Comedy</td>\n",
       "      <td>18</td>\n",
       "      <td>10.80</td>\n",
       "      <td>3113427</td>\n",
       "      <td>4512</td>\n",
       "      <td>1224</td>\n",
       "    </tr>\n",
       "    <tr>\n",
       "      <th>...</th>\n",
       "      <td>...</td>\n",
       "      <td>...</td>\n",
       "      <td>...</td>\n",
       "      <td>...</td>\n",
       "      <td>...</td>\n",
       "      <td>...</td>\n",
       "      <td>...</td>\n",
       "      <td>...</td>\n",
       "      <td>...</td>\n",
       "      <td>...</td>\n",
       "    </tr>\n",
       "    <tr>\n",
       "      <th>144</th>\n",
       "      <td>145</td>\n",
       "      <td>2015-02-27</td>\n",
       "      <td>Dum Laga Ke Haisha</td>\n",
       "      <td>N</td>\n",
       "      <td>Comedy</td>\n",
       "      <td>15</td>\n",
       "      <td>30.00</td>\n",
       "      <td>3250917</td>\n",
       "      <td>8185</td>\n",
       "      <td>615</td>\n",
       "    </tr>\n",
       "    <tr>\n",
       "      <th>145</th>\n",
       "      <td>146</td>\n",
       "      <td>2015-03-13</td>\n",
       "      <td>NH10</td>\n",
       "      <td>N</td>\n",
       "      <td>Thriller</td>\n",
       "      <td>13</td>\n",
       "      <td>32.10</td>\n",
       "      <td>5592977</td>\n",
       "      <td>15464</td>\n",
       "      <td>1513</td>\n",
       "    </tr>\n",
       "    <tr>\n",
       "      <th>146</th>\n",
       "      <td>147</td>\n",
       "      <td>2015-03-20</td>\n",
       "      <td>Dilliwali Zaalim Girlfriend</td>\n",
       "      <td>N</td>\n",
       "      <td>Comedy</td>\n",
       "      <td>32</td>\n",
       "      <td>12.00</td>\n",
       "      <td>2316047</td>\n",
       "      <td>4289</td>\n",
       "      <td>807</td>\n",
       "    </tr>\n",
       "    <tr>\n",
       "      <th>147</th>\n",
       "      <td>148</td>\n",
       "      <td>2015-03-20</td>\n",
       "      <td>Hunterrr</td>\n",
       "      <td>N</td>\n",
       "      <td>Comedy</td>\n",
       "      <td>5</td>\n",
       "      <td>11.89</td>\n",
       "      <td>4674795</td>\n",
       "      <td>3706</td>\n",
       "      <td>762</td>\n",
       "    </tr>\n",
       "    <tr>\n",
       "      <th>148</th>\n",
       "      <td>149</td>\n",
       "      <td>2014-05-23</td>\n",
       "      <td>Kochadaiiyaan</td>\n",
       "      <td>HS</td>\n",
       "      <td>Action</td>\n",
       "      <td>150</td>\n",
       "      <td>120.00</td>\n",
       "      <td>4740727</td>\n",
       "      <td>13466</td>\n",
       "      <td>2649</td>\n",
       "    </tr>\n",
       "  </tbody>\n",
       "</table>\n",
       "<p>149 rows × 10 columns</p>\n",
       "</div>"
      ],
      "text/plain": [
       "     SlNo Release Date                    Moviename Releasetime     Genre  \\\n",
       "0       1   2014-04-18                     2 States          LW   Romance   \n",
       "1       2   2013-01-04                 Table No. 21           N  Thriller   \n",
       "2       3   2014-07-18           Amit Sahni Ki List           N    Comedy   \n",
       "3       4   2013-01-04             Rajdhani Express           N    Drama    \n",
       "4       5   2014-07-04                 Bobby Jasoos           N    Comedy   \n",
       "..    ...          ...                          ...         ...       ...   \n",
       "144   145   2015-02-27           Dum Laga Ke Haisha           N    Comedy   \n",
       "145   146   2015-03-13                         NH10           N  Thriller   \n",
       "146   147   2015-03-20  Dilliwali Zaalim Girlfriend           N    Comedy   \n",
       "147   148   2015-03-20                     Hunterrr           N    Comedy   \n",
       "148   149   2014-05-23                Kochadaiiyaan          HS    Action   \n",
       "\n",
       "     Budget  BoxOfficecollection  Youtubeviews  Youtubelikes  Youtubedislikes  \n",
       "0        36               104.00       8576361         26622             2527  \n",
       "1        10                12.00       1087320          1129              137  \n",
       "2        10                 4.00        572336           586               54  \n",
       "3         7                 0.35         42626            86               19  \n",
       "4        18                10.80       3113427          4512             1224  \n",
       "..      ...                  ...           ...           ...              ...  \n",
       "144      15                30.00       3250917          8185              615  \n",
       "145      13                32.10       5592977         15464             1513  \n",
       "146      32                12.00       2316047          4289              807  \n",
       "147       5                11.89       4674795          3706              762  \n",
       "148     150               120.00       4740727         13466             2649  \n",
       "\n",
       "[149 rows x 10 columns]"
      ]
     },
     "execution_count": 3,
     "metadata": {},
     "output_type": "execute_result"
    }
   ],
   "source": [
    "bol=pd.read_excel(\"D:/Assignments and Tasks/Trim 4/PBA/Assignment/Python Assignment/bollywood.xlsx\")\n",
    "bol"
   ]
  },
  {
   "cell_type": "code",
   "execution_count": 4,
   "id": "6c1c8ff5",
   "metadata": {},
   "outputs": [],
   "source": [
    "warnings.filterwarnings(\"ignore\",category=UserWarning)"
   ]
  },
  {
   "cell_type": "markdown",
   "id": "265ab3de",
   "metadata": {},
   "source": [
    "### Checking the Overall Info of the dataset"
   ]
  },
  {
   "cell_type": "code",
   "execution_count": 5,
   "id": "dc767b47",
   "metadata": {},
   "outputs": [
    {
     "name": "stdout",
     "output_type": "stream",
     "text": [
      "<class 'pandas.core.frame.DataFrame'>\n",
      "RangeIndex: 149 entries, 0 to 148\n",
      "Data columns (total 10 columns):\n",
      " #   Column               Non-Null Count  Dtype         \n",
      "---  ------               --------------  -----         \n",
      " 0   SlNo                 149 non-null    int64         \n",
      " 1   Release Date         149 non-null    datetime64[ns]\n",
      " 2   Moviename            149 non-null    object        \n",
      " 3   Releasetime          149 non-null    object        \n",
      " 4   Genre                149 non-null    object        \n",
      " 5   Budget               149 non-null    int64         \n",
      " 6   BoxOfficecollection  149 non-null    float64       \n",
      " 7   Youtubeviews         149 non-null    int64         \n",
      " 8   Youtubelikes         149 non-null    int64         \n",
      " 9   Youtubedislikes      149 non-null    int64         \n",
      "dtypes: datetime64[ns](1), float64(1), int64(5), object(3)\n",
      "memory usage: 11.8+ KB\n"
     ]
    }
   ],
   "source": [
    "bol.info()"
   ]
  },
  {
   "cell_type": "markdown",
   "id": "308f61a2",
   "metadata": {},
   "source": [
    "## Replacing Release Time Abbreviations with Full Forms"
   ]
  },
  {
   "cell_type": "code",
   "execution_count": 6,
   "id": "f355d2d3",
   "metadata": {},
   "outputs": [
    {
     "data": {
      "text/html": [
       "<div>\n",
       "<style scoped>\n",
       "    .dataframe tbody tr th:only-of-type {\n",
       "        vertical-align: middle;\n",
       "    }\n",
       "\n",
       "    .dataframe tbody tr th {\n",
       "        vertical-align: top;\n",
       "    }\n",
       "\n",
       "    .dataframe thead th {\n",
       "        text-align: right;\n",
       "    }\n",
       "</style>\n",
       "<table border=\"1\" class=\"dataframe\">\n",
       "  <thead>\n",
       "    <tr style=\"text-align: right;\">\n",
       "      <th></th>\n",
       "      <th>SlNo</th>\n",
       "      <th>Release Date</th>\n",
       "      <th>Moviename</th>\n",
       "      <th>Releasetime</th>\n",
       "      <th>Genre</th>\n",
       "      <th>Budget</th>\n",
       "      <th>BoxOfficecollection</th>\n",
       "      <th>Youtubeviews</th>\n",
       "      <th>Youtubelikes</th>\n",
       "      <th>Youtubedislikes</th>\n",
       "    </tr>\n",
       "  </thead>\n",
       "  <tbody>\n",
       "    <tr>\n",
       "      <th>0</th>\n",
       "      <td>1</td>\n",
       "      <td>2014-04-18</td>\n",
       "      <td>2 States</td>\n",
       "      <td>Last Week</td>\n",
       "      <td>Romance</td>\n",
       "      <td>36</td>\n",
       "      <td>104.00</td>\n",
       "      <td>8576361</td>\n",
       "      <td>26622</td>\n",
       "      <td>2527</td>\n",
       "    </tr>\n",
       "    <tr>\n",
       "      <th>1</th>\n",
       "      <td>2</td>\n",
       "      <td>2013-01-04</td>\n",
       "      <td>Table No. 21</td>\n",
       "      <td>Normal</td>\n",
       "      <td>Thriller</td>\n",
       "      <td>10</td>\n",
       "      <td>12.00</td>\n",
       "      <td>1087320</td>\n",
       "      <td>1129</td>\n",
       "      <td>137</td>\n",
       "    </tr>\n",
       "    <tr>\n",
       "      <th>2</th>\n",
       "      <td>3</td>\n",
       "      <td>2014-07-18</td>\n",
       "      <td>Amit Sahni Ki List</td>\n",
       "      <td>Normal</td>\n",
       "      <td>Comedy</td>\n",
       "      <td>10</td>\n",
       "      <td>4.00</td>\n",
       "      <td>572336</td>\n",
       "      <td>586</td>\n",
       "      <td>54</td>\n",
       "    </tr>\n",
       "    <tr>\n",
       "      <th>3</th>\n",
       "      <td>4</td>\n",
       "      <td>2013-01-04</td>\n",
       "      <td>Rajdhani Express</td>\n",
       "      <td>Normal</td>\n",
       "      <td>Drama</td>\n",
       "      <td>7</td>\n",
       "      <td>0.35</td>\n",
       "      <td>42626</td>\n",
       "      <td>86</td>\n",
       "      <td>19</td>\n",
       "    </tr>\n",
       "    <tr>\n",
       "      <th>4</th>\n",
       "      <td>5</td>\n",
       "      <td>2014-07-04</td>\n",
       "      <td>Bobby Jasoos</td>\n",
       "      <td>Normal</td>\n",
       "      <td>Comedy</td>\n",
       "      <td>18</td>\n",
       "      <td>10.80</td>\n",
       "      <td>3113427</td>\n",
       "      <td>4512</td>\n",
       "      <td>1224</td>\n",
       "    </tr>\n",
       "    <tr>\n",
       "      <th>...</th>\n",
       "      <td>...</td>\n",
       "      <td>...</td>\n",
       "      <td>...</td>\n",
       "      <td>...</td>\n",
       "      <td>...</td>\n",
       "      <td>...</td>\n",
       "      <td>...</td>\n",
       "      <td>...</td>\n",
       "      <td>...</td>\n",
       "      <td>...</td>\n",
       "    </tr>\n",
       "    <tr>\n",
       "      <th>144</th>\n",
       "      <td>145</td>\n",
       "      <td>2015-02-27</td>\n",
       "      <td>Dum Laga Ke Haisha</td>\n",
       "      <td>Normal</td>\n",
       "      <td>Comedy</td>\n",
       "      <td>15</td>\n",
       "      <td>30.00</td>\n",
       "      <td>3250917</td>\n",
       "      <td>8185</td>\n",
       "      <td>615</td>\n",
       "    </tr>\n",
       "    <tr>\n",
       "      <th>145</th>\n",
       "      <td>146</td>\n",
       "      <td>2015-03-13</td>\n",
       "      <td>NH10</td>\n",
       "      <td>Normal</td>\n",
       "      <td>Thriller</td>\n",
       "      <td>13</td>\n",
       "      <td>32.10</td>\n",
       "      <td>5592977</td>\n",
       "      <td>15464</td>\n",
       "      <td>1513</td>\n",
       "    </tr>\n",
       "    <tr>\n",
       "      <th>146</th>\n",
       "      <td>147</td>\n",
       "      <td>2015-03-20</td>\n",
       "      <td>Dilliwali Zaalim Girlfriend</td>\n",
       "      <td>Normal</td>\n",
       "      <td>Comedy</td>\n",
       "      <td>32</td>\n",
       "      <td>12.00</td>\n",
       "      <td>2316047</td>\n",
       "      <td>4289</td>\n",
       "      <td>807</td>\n",
       "    </tr>\n",
       "    <tr>\n",
       "      <th>147</th>\n",
       "      <td>148</td>\n",
       "      <td>2015-03-20</td>\n",
       "      <td>Hunterrr</td>\n",
       "      <td>Normal</td>\n",
       "      <td>Comedy</td>\n",
       "      <td>5</td>\n",
       "      <td>11.89</td>\n",
       "      <td>4674795</td>\n",
       "      <td>3706</td>\n",
       "      <td>762</td>\n",
       "    </tr>\n",
       "    <tr>\n",
       "      <th>148</th>\n",
       "      <td>149</td>\n",
       "      <td>2014-05-23</td>\n",
       "      <td>Kochadaiiyaan</td>\n",
       "      <td>Holiday Season</td>\n",
       "      <td>Action</td>\n",
       "      <td>150</td>\n",
       "      <td>120.00</td>\n",
       "      <td>4740727</td>\n",
       "      <td>13466</td>\n",
       "      <td>2649</td>\n",
       "    </tr>\n",
       "  </tbody>\n",
       "</table>\n",
       "<p>149 rows × 10 columns</p>\n",
       "</div>"
      ],
      "text/plain": [
       "     SlNo Release Date                    Moviename     Releasetime     Genre  \\\n",
       "0       1   2014-04-18                     2 States       Last Week   Romance   \n",
       "1       2   2013-01-04                 Table No. 21          Normal  Thriller   \n",
       "2       3   2014-07-18           Amit Sahni Ki List          Normal    Comedy   \n",
       "3       4   2013-01-04             Rajdhani Express          Normal    Drama    \n",
       "4       5   2014-07-04                 Bobby Jasoos          Normal    Comedy   \n",
       "..    ...          ...                          ...             ...       ...   \n",
       "144   145   2015-02-27           Dum Laga Ke Haisha          Normal    Comedy   \n",
       "145   146   2015-03-13                         NH10          Normal  Thriller   \n",
       "146   147   2015-03-20  Dilliwali Zaalim Girlfriend          Normal    Comedy   \n",
       "147   148   2015-03-20                     Hunterrr          Normal    Comedy   \n",
       "148   149   2014-05-23                Kochadaiiyaan  Holiday Season    Action   \n",
       "\n",
       "     Budget  BoxOfficecollection  Youtubeviews  Youtubelikes  Youtubedislikes  \n",
       "0        36               104.00       8576361         26622             2527  \n",
       "1        10                12.00       1087320          1129              137  \n",
       "2        10                 4.00        572336           586               54  \n",
       "3         7                 0.35         42626            86               19  \n",
       "4        18                10.80       3113427          4512             1224  \n",
       "..      ...                  ...           ...           ...              ...  \n",
       "144      15                30.00       3250917          8185              615  \n",
       "145      13                32.10       5592977         15464             1513  \n",
       "146      32                12.00       2316047          4289              807  \n",
       "147       5                11.89       4674795          3706              762  \n",
       "148     150               120.00       4740727         13466             2649  \n",
       "\n",
       "[149 rows x 10 columns]"
      ]
     },
     "execution_count": 6,
     "metadata": {},
     "output_type": "execute_result"
    }
   ],
   "source": [
    "bol['Releasetime'] = bol['Releasetime'].replace({'LW':'Last Week','N':'Normal','HS':'Holiday Season','FS':'First Slot'})\n",
    "bol"
   ]
  },
  {
   "cell_type": "markdown",
   "id": "50bb3b09",
   "metadata": {},
   "source": [
    "## Descriptive Statistics of Numerical columns"
   ]
  },
  {
   "cell_type": "code",
   "execution_count": 7,
   "id": "595232c2",
   "metadata": {},
   "outputs": [
    {
     "data": {
      "text/html": [
       "<div>\n",
       "<style scoped>\n",
       "    .dataframe tbody tr th:only-of-type {\n",
       "        vertical-align: middle;\n",
       "    }\n",
       "\n",
       "    .dataframe tbody tr th {\n",
       "        vertical-align: top;\n",
       "    }\n",
       "\n",
       "    .dataframe thead th {\n",
       "        text-align: right;\n",
       "    }\n",
       "</style>\n",
       "<table border=\"1\" class=\"dataframe\">\n",
       "  <thead>\n",
       "    <tr style=\"text-align: right;\">\n",
       "      <th></th>\n",
       "      <th>Budget</th>\n",
       "      <th>BoxOfficecollection</th>\n",
       "      <th>Youtubeviews</th>\n",
       "      <th>Youtubelikes</th>\n",
       "      <th>Youtubedislikes</th>\n",
       "    </tr>\n",
       "  </thead>\n",
       "  <tbody>\n",
       "    <tr>\n",
       "      <th>count</th>\n",
       "      <td>149.000000</td>\n",
       "      <td>149.000000</td>\n",
       "      <td>1.490000e+02</td>\n",
       "      <td>149.000000</td>\n",
       "      <td>149.000000</td>\n",
       "    </tr>\n",
       "    <tr>\n",
       "      <th>mean</th>\n",
       "      <td>29.442953</td>\n",
       "      <td>55.667248</td>\n",
       "      <td>3.337920e+06</td>\n",
       "      <td>7877.536913</td>\n",
       "      <td>1207.818792</td>\n",
       "    </tr>\n",
       "    <tr>\n",
       "      <th>std</th>\n",
       "      <td>28.237981</td>\n",
       "      <td>94.494531</td>\n",
       "      <td>3.504407e+06</td>\n",
       "      <td>12748.047191</td>\n",
       "      <td>1852.692938</td>\n",
       "    </tr>\n",
       "    <tr>\n",
       "      <th>min</th>\n",
       "      <td>2.000000</td>\n",
       "      <td>0.010000</td>\n",
       "      <td>4.354000e+03</td>\n",
       "      <td>1.000000</td>\n",
       "      <td>1.000000</td>\n",
       "    </tr>\n",
       "    <tr>\n",
       "      <th>25%</th>\n",
       "      <td>11.000000</td>\n",
       "      <td>8.780000</td>\n",
       "      <td>1.076591e+06</td>\n",
       "      <td>1377.000000</td>\n",
       "      <td>189.000000</td>\n",
       "    </tr>\n",
       "    <tr>\n",
       "      <th>50%</th>\n",
       "      <td>21.000000</td>\n",
       "      <td>28.000000</td>\n",
       "      <td>2.375050e+06</td>\n",
       "      <td>4111.000000</td>\n",
       "      <td>614.000000</td>\n",
       "    </tr>\n",
       "    <tr>\n",
       "      <th>75%</th>\n",
       "      <td>35.000000</td>\n",
       "      <td>57.450000</td>\n",
       "      <td>4.550051e+06</td>\n",
       "      <td>9100.000000</td>\n",
       "      <td>1419.000000</td>\n",
       "    </tr>\n",
       "    <tr>\n",
       "      <th>max</th>\n",
       "      <td>150.000000</td>\n",
       "      <td>735.000000</td>\n",
       "      <td>2.317107e+07</td>\n",
       "      <td>101275.000000</td>\n",
       "      <td>11888.000000</td>\n",
       "    </tr>\n",
       "  </tbody>\n",
       "</table>\n",
       "</div>"
      ],
      "text/plain": [
       "           Budget  BoxOfficecollection  Youtubeviews   Youtubelikes  \\\n",
       "count  149.000000           149.000000  1.490000e+02     149.000000   \n",
       "mean    29.442953            55.667248  3.337920e+06    7877.536913   \n",
       "std     28.237981            94.494531  3.504407e+06   12748.047191   \n",
       "min      2.000000             0.010000  4.354000e+03       1.000000   \n",
       "25%     11.000000             8.780000  1.076591e+06    1377.000000   \n",
       "50%     21.000000            28.000000  2.375050e+06    4111.000000   \n",
       "75%     35.000000            57.450000  4.550051e+06    9100.000000   \n",
       "max    150.000000           735.000000  2.317107e+07  101275.000000   \n",
       "\n",
       "       Youtubedislikes  \n",
       "count       149.000000  \n",
       "mean       1207.818792  \n",
       "std        1852.692938  \n",
       "min           1.000000  \n",
       "25%         189.000000  \n",
       "50%         614.000000  \n",
       "75%        1419.000000  \n",
       "max       11888.000000  "
      ]
     },
     "execution_count": 7,
     "metadata": {},
     "output_type": "execute_result"
    }
   ],
   "source": [
    "N=['Budget','BoxOfficecollection','Youtubeviews','Youtubelikes','Youtubedislikes']\n",
    "bol[N].describe()"
   ]
  },
  {
   "cell_type": "markdown",
   "id": "cf4fda81",
   "metadata": {},
   "source": [
    "## Group By Release Time, Average Box Office Collection and Average Views Rounded to 2 decimal place and sorted by Box Office Collection hightest to lowest "
   ]
  },
  {
   "cell_type": "code",
   "execution_count": 8,
   "id": "2bf03101",
   "metadata": {},
   "outputs": [
    {
     "data": {
      "text/html": [
       "<div>\n",
       "<style scoped>\n",
       "    .dataframe tbody tr th:only-of-type {\n",
       "        vertical-align: middle;\n",
       "    }\n",
       "\n",
       "    .dataframe tbody tr th {\n",
       "        vertical-align: top;\n",
       "    }\n",
       "\n",
       "    .dataframe thead th {\n",
       "        text-align: right;\n",
       "    }\n",
       "</style>\n",
       "<table border=\"1\" class=\"dataframe\">\n",
       "  <thead>\n",
       "    <tr style=\"text-align: right;\">\n",
       "      <th></th>\n",
       "      <th>BoxOfficecollection</th>\n",
       "      <th>Youtubeviews</th>\n",
       "    </tr>\n",
       "    <tr>\n",
       "      <th>Releasetime</th>\n",
       "      <th></th>\n",
       "      <th></th>\n",
       "    </tr>\n",
       "  </thead>\n",
       "  <tbody>\n",
       "    <tr>\n",
       "      <th>Last Week</th>\n",
       "      <td>98.32</td>\n",
       "      <td>3945298.60</td>\n",
       "    </tr>\n",
       "    <tr>\n",
       "      <th>First Slot</th>\n",
       "      <td>89.54</td>\n",
       "      <td>4760327.35</td>\n",
       "    </tr>\n",
       "    <tr>\n",
       "      <th>Holiday Season</th>\n",
       "      <td>74.62</td>\n",
       "      <td>3162423.72</td>\n",
       "    </tr>\n",
       "    <tr>\n",
       "      <th>Normal</th>\n",
       "      <td>39.94</td>\n",
       "      <td>3033549.45</td>\n",
       "    </tr>\n",
       "  </tbody>\n",
       "</table>\n",
       "</div>"
      ],
      "text/plain": [
       "                BoxOfficecollection  Youtubeviews\n",
       "Releasetime                                      \n",
       "Last Week                     98.32    3945298.60\n",
       "First Slot                    89.54    4760327.35\n",
       "Holiday Season                74.62    3162423.72\n",
       "Normal                        39.94    3033549.45"
      ]
     },
     "execution_count": 8,
     "metadata": {},
     "output_type": "execute_result"
    }
   ],
   "source": [
    "bol.groupby('Releasetime')[['BoxOfficecollection','Youtubeviews']].mean().round(2).sort_values('BoxOfficecollection',ascending=False)"
   ]
  },
  {
   "cell_type": "markdown",
   "id": "e263a236",
   "metadata": {},
   "source": [
    "## Group By Genre and Average values of Box Office Collection, then rounded to 2 decimal place and sorted descending"
   ]
  },
  {
   "cell_type": "code",
   "execution_count": 9,
   "id": "56665b5d",
   "metadata": {},
   "outputs": [
    {
     "data": {
      "text/html": [
       "<div>\n",
       "<style scoped>\n",
       "    .dataframe tbody tr th:only-of-type {\n",
       "        vertical-align: middle;\n",
       "    }\n",
       "\n",
       "    .dataframe tbody tr th {\n",
       "        vertical-align: top;\n",
       "    }\n",
       "\n",
       "    .dataframe thead th {\n",
       "        text-align: right;\n",
       "    }\n",
       "</style>\n",
       "<table border=\"1\" class=\"dataframe\">\n",
       "  <thead>\n",
       "    <tr style=\"text-align: right;\">\n",
       "      <th></th>\n",
       "      <th>BoxOfficecollection</th>\n",
       "    </tr>\n",
       "    <tr>\n",
       "      <th>Genre</th>\n",
       "      <th></th>\n",
       "    </tr>\n",
       "  </thead>\n",
       "  <tbody>\n",
       "    <tr>\n",
       "      <th>Action</th>\n",
       "      <td>91.68</td>\n",
       "    </tr>\n",
       "    <tr>\n",
       "      <th>Drama</th>\n",
       "      <td>65.79</td>\n",
       "    </tr>\n",
       "    <tr>\n",
       "      <th>Romance</th>\n",
       "      <td>52.84</td>\n",
       "    </tr>\n",
       "    <tr>\n",
       "      <th>Comedy</th>\n",
       "      <td>46.12</td>\n",
       "    </tr>\n",
       "    <tr>\n",
       "      <th>Thriller</th>\n",
       "      <td>27.94</td>\n",
       "    </tr>\n",
       "  </tbody>\n",
       "</table>\n",
       "</div>"
      ],
      "text/plain": [
       "          BoxOfficecollection\n",
       "Genre                        \n",
       "Action                  91.68\n",
       " Drama                  65.79\n",
       "Romance                 52.84\n",
       "Comedy                  46.12\n",
       "Thriller                27.94"
      ]
     },
     "execution_count": 9,
     "metadata": {},
     "output_type": "execute_result"
    }
   ],
   "source": [
    "bol.groupby('Genre')[['BoxOfficecollection']].mean().round(2).sort_values([\"BoxOfficecollection\"],ascending=False)"
   ]
  },
  {
   "cell_type": "markdown",
   "id": "6bb7a12f",
   "metadata": {},
   "source": [
    "## Ratio of average BoxOffice Collection by Genre represented by Pie Chart"
   ]
  },
  {
   "cell_type": "code",
   "execution_count": 10,
   "id": "afa4b39f",
   "metadata": {},
   "outputs": [
    {
     "data": {
      "image/png": "[encoded data removed]",
      "text/plain": [
       "<Figure size 640x480 with 1 Axes>"
      ]
     },
     "metadata": {},
     "output_type": "display_data"
    }
   ],
   "source": [
    "c2=bol.groupby(\"Genre\")[\"BoxOfficecollection\"].mean().reset_index()\n",
    "plt.pie(c2[\"BoxOfficecollection\"],labels=c2[\"Genre\"], autopct='%.2f%%',startangle=90)\n",
    "plt.title(\"Average BoxOffice Collection by Genre\")\n",
    "plt.show()"
   ]
  },
  {
   "cell_type": "markdown",
   "id": "f6447442",
   "metadata": {},
   "source": [
    "## Total BoxOffice Collection By Year Visualised Through Bar Chart"
   ]
  },
  {
   "cell_type": "code",
   "execution_count": 11,
   "id": "9330a70b",
   "metadata": {},
   "outputs": [
    {
     "data": {
      "text/html": [
       "<div>\n",
       "<style scoped>\n",
       "    .dataframe tbody tr th:only-of-type {\n",
       "        vertical-align: middle;\n",
       "    }\n",
       "\n",
       "    .dataframe tbody tr th {\n",
       "        vertical-align: top;\n",
       "    }\n",
       "\n",
       "    .dataframe thead th {\n",
       "        text-align: right;\n",
       "    }\n",
       "</style>\n",
       "<table border=\"1\" class=\"dataframe\">\n",
       "  <thead>\n",
       "    <tr style=\"text-align: right;\">\n",
       "      <th></th>\n",
       "      <th>BoxOfficecollection</th>\n",
       "    </tr>\n",
       "    <tr>\n",
       "      <th>Year</th>\n",
       "      <th></th>\n",
       "    </tr>\n",
       "  </thead>\n",
       "  <tbody>\n",
       "    <tr>\n",
       "      <th>2014</th>\n",
       "      <td>4317.01</td>\n",
       "    </tr>\n",
       "    <tr>\n",
       "      <th>2013</th>\n",
       "      <td>3468.15</td>\n",
       "    </tr>\n",
       "    <tr>\n",
       "      <th>2015</th>\n",
       "      <td>509.26</td>\n",
       "    </tr>\n",
       "  </tbody>\n",
       "</table>\n",
       "</div>"
      ],
      "text/plain": [
       "      BoxOfficecollection\n",
       "Year                     \n",
       "2014              4317.01\n",
       "2013              3468.15\n",
       "2015               509.26"
      ]
     },
     "execution_count": 11,
     "metadata": {},
     "output_type": "execute_result"
    }
   ],
   "source": [
    "bol['Release Date']=pd.to_datetime(bol['Release Date'])\n",
    "bol['Year']=bol['Release Date'].dt.strftime('%Y')\n",
    "bol.groupby('Year')[['BoxOfficecollection']].sum().sort_values('BoxOfficecollection',ascending=False)"
   ]
  },
  {
   "cell_type": "code",
   "execution_count": 12,
   "id": "6598f456",
   "metadata": {},
   "outputs": [
    {
     "data": {
      "text/plain": [
       "Text(0.5, 1.0, 'Yearly Box Office Collection')"
      ]
     },
     "execution_count": 12,
     "metadata": {},
     "output_type": "execute_result"
    },
    {
     "data": {
      "image/png": "[encoded data removed]",
      "text/plain": [
       "<Figure size 640x480 with 1 Axes>"
      ]
     },
     "metadata": {},
     "output_type": "display_data"
    }
   ],
   "source": [
    "c5=bol.groupby('Year')['BoxOfficecollection'].sum().reset_index()\n",
    "plt.bar(c5['Year'],c5['BoxOfficecollection'])\n",
    "plt.xlabel('Year')\n",
    "plt.ylabel('Total Box Office Collection')\n",
    "plt.title('Yearly Box Office Collection')"
   ]
  },
  {
   "cell_type": "code",
   "execution_count": 13,
   "id": "239fa48d",
   "metadata": {},
   "outputs": [
    {
     "data": {
      "text/plain": [
       "Text(0.5, 1.0, 'Avg Collection By Year and Genre')"
      ]
     },
     "execution_count": 13,
     "metadata": {},
     "output_type": "execute_result"
    },
    {
     "data": {
      "image/png": "[encoded data removed]",
      "text/plain": [
       "<Figure size 640x480 with 1 Axes>"
      ]
     },
     "metadata": {},
     "output_type": "display_data"
    }
   ],
   "source": [
    "c6=bol.groupby(['Year','Genre'])['BoxOfficecollection'].mean().unstack()\n",
    "c6.plot(kind=\"bar\",stacked=True)\n",
    "plt.xlabel('Year and Genre')\n",
    "plt.legend(('Drama','Action','Comedy','Romance','Thriller'),fontsize=9)\n",
    "plt.ylabel('Total Box Office Collection')\n",
    "plt.title('Avg Collection By Year and Genre')"
   ]
  },
  {
   "cell_type": "markdown",
   "id": "c60220bf",
   "metadata": {},
   "source": [
    "## BoxOffice Collection Trend"
   ]
  },
  {
   "cell_type": "code",
   "execution_count": 14,
   "id": "9bc819fb",
   "metadata": {},
   "outputs": [
    {
     "data": {
      "text/plain": [
       "Text(0.5, 1.0, 'BoxOffice Collection Trend By Release Date')"
      ]
     },
     "execution_count": 14,
     "metadata": {},
     "output_type": "execute_result"
    },
    {
     "data": {
      "image/png": "[encoded data removed]",
      "text/plain": [
       "<Figure size 1000x500 with 1 Axes>"
      ]
     },
     "metadata": {},
     "output_type": "display_data"
    }
   ],
   "source": [
    "c7=bol.groupby('Release Date')['BoxOfficecollection'].mean().reset_index()\n",
    "plt.figure(figsize=(10,5))\n",
    "plt.plot(c7[\"Release Date\"],c7[\"BoxOfficecollection\"],color='Green')\n",
    "plt.xlabel(\"Release Date\")\n",
    "plt.ylabel(\"BoxOffice Collection\")\n",
    "plt.title(\"BoxOffice Collection Trend By Release Date\")"
   ]
  },
  {
   "cell_type": "markdown",
   "id": "eb30b434",
   "metadata": {},
   "source": [
    "## Independent Samples T-Test to check if there is an impact of movie budget on youtube dislikes"
   ]
  },
  {
   "cell_type": "code",
   "execution_count": 44,
   "id": "54b92052",
   "metadata": {},
   "outputs": [
    {
     "data": {
      "text/plain": [
       "<matplotlib.legend.Legend at 0x2000ac85650>"
      ]
     },
     "execution_count": 44,
     "metadata": {},
     "output_type": "execute_result"
    },
    {
     "data": {
      "image/png": "[encoded data removed]",
      "text/plain": [
       "<Figure size 640x480 with 1 Axes>"
      ]
     },
     "metadata": {},
     "output_type": "display_data"
    }
   ],
   "source": [
    "sn.distplot(bol[\"Budget\"], label=\"Budget\")\n",
    "sn.distplot(bol[\"Youtubedislikes\"], label=\"Dislikes\")\n",
    "plt.legend()"
   ]
  },
  {
   "cell_type": "code",
   "execution_count": 43,
   "id": "1bfdf7a8",
   "metadata": {},
   "outputs": [
    {
     "data": {
      "text/plain": [
       "Ttest_indResult(statistic=-7.762883679399135, pvalue=1.361833361984901e-13)"
      ]
     },
     "execution_count": 43,
     "metadata": {},
     "output_type": "execute_result"
    }
   ],
   "source": [
    "t=stats.ttest_ind(bol[\"Budget\"],bol[\"Youtubedislikes\"])\n",
    "t"
   ]
  },
  {
   "cell_type": "code",
   "execution_count": 18,
   "id": "81e94c81",
   "metadata": {},
   "outputs": [],
   "source": [
    "#Null Hypothesis : There is no Significant impact of movie budget on youtube dislikes\n",
    "#Alternate Hypothesis : There is a Significant impact of movie budget on youtube dislikes\n",
    "#Since, pvalue is 1.361833361984901e-13 which is less than 0.05, hence null hypothesis is rejected indicating that \n",
    "#there is a significant impact of budget on youtube dislike"
   ]
  },
  {
   "cell_type": "markdown",
   "id": "64acb42b",
   "metadata": {},
   "source": [
    "## Normalcy Check of Variables"
   ]
  },
  {
   "cell_type": "code",
   "execution_count": 25,
   "id": "e8fac372",
   "metadata": {},
   "outputs": [
    {
     "data": {
      "image/png": "[encoded data removed]",
      "text/plain": [
       "<Figure size 640x480 with 1 Axes>"
      ]
     },
     "metadata": {},
     "output_type": "display_data"
    }
   ],
   "source": [
    "plt.boxplot([bol['BoxOfficecollection'], bol['Budget'], bol['Youtubeviews'], bol['Youtubelikes'], bol['Youtubedislikes']])\n",
    "plt.xticks([1,2,3,4,5],['BoxOfficecollection', 'Budget', 'Youtubeviews', 'Youtubelikes', 'Youtubedislikes'])\n",
    "plt.title(\"Sample Distribution of Variables\")\n",
    "plt.show()"
   ]
  },
  {
   "cell_type": "markdown",
   "id": "6cb0ddfd",
   "metadata": {},
   "source": [
    "## To check Missing Values"
   ]
  },
  {
   "cell_type": "code",
   "execution_count": 26,
   "id": "ebc9ff18",
   "metadata": {},
   "outputs": [
    {
     "data": {
      "text/plain": [
       "SlNo                   0\n",
       "Release Date           0\n",
       "Moviename              0\n",
       "Releasetime            0\n",
       "Genre                  0\n",
       "Budget                 0\n",
       "BoxOfficecollection    0\n",
       "Youtubeviews           0\n",
       "Youtubelikes           0\n",
       "Youtubedislikes        0\n",
       "Year                   0\n",
       "dtype: int64"
      ]
     },
     "execution_count": 26,
     "metadata": {},
     "output_type": "execute_result"
    }
   ],
   "source": [
    "bol.isna().sum()"
   ]
  },
  {
   "cell_type": "markdown",
   "id": "d79d1d1a",
   "metadata": {},
   "source": [
    "## Declaring independent variables for Multiple Linear Regression"
   ]
  },
  {
   "cell_type": "code",
   "execution_count": 51,
   "id": "45c7d3b1",
   "metadata": {},
   "outputs": [
    {
     "data": {
      "text/html": [
       "<div>\n",
       "<style scoped>\n",
       "    .dataframe tbody tr th:only-of-type {\n",
       "        vertical-align: middle;\n",
       "    }\n",
       "\n",
       "    .dataframe tbody tr th {\n",
       "        vertical-align: top;\n",
       "    }\n",
       "\n",
       "    .dataframe thead th {\n",
       "        text-align: right;\n",
       "    }\n",
       "</style>\n",
       "<table border=\"1\" class=\"dataframe\">\n",
       "  <thead>\n",
       "    <tr style=\"text-align: right;\">\n",
       "      <th></th>\n",
       "      <th>const</th>\n",
       "      <th>Budget</th>\n",
       "      <th>Youtubeviews</th>\n",
       "      <th>Youtubelikes</th>\n",
       "      <th>Youtubedislikes</th>\n",
       "    </tr>\n",
       "  </thead>\n",
       "  <tbody>\n",
       "    <tr>\n",
       "      <th>0</th>\n",
       "      <td>1.0</td>\n",
       "      <td>36</td>\n",
       "      <td>8576361</td>\n",
       "      <td>26622</td>\n",
       "      <td>2527</td>\n",
       "    </tr>\n",
       "    <tr>\n",
       "      <th>1</th>\n",
       "      <td>1.0</td>\n",
       "      <td>10</td>\n",
       "      <td>1087320</td>\n",
       "      <td>1129</td>\n",
       "      <td>137</td>\n",
       "    </tr>\n",
       "    <tr>\n",
       "      <th>2</th>\n",
       "      <td>1.0</td>\n",
       "      <td>10</td>\n",
       "      <td>572336</td>\n",
       "      <td>586</td>\n",
       "      <td>54</td>\n",
       "    </tr>\n",
       "    <tr>\n",
       "      <th>3</th>\n",
       "      <td>1.0</td>\n",
       "      <td>7</td>\n",
       "      <td>42626</td>\n",
       "      <td>86</td>\n",
       "      <td>19</td>\n",
       "    </tr>\n",
       "    <tr>\n",
       "      <th>4</th>\n",
       "      <td>1.0</td>\n",
       "      <td>18</td>\n",
       "      <td>3113427</td>\n",
       "      <td>4512</td>\n",
       "      <td>1224</td>\n",
       "    </tr>\n",
       "    <tr>\n",
       "      <th>...</th>\n",
       "      <td>...</td>\n",
       "      <td>...</td>\n",
       "      <td>...</td>\n",
       "      <td>...</td>\n",
       "      <td>...</td>\n",
       "    </tr>\n",
       "    <tr>\n",
       "      <th>144</th>\n",
       "      <td>1.0</td>\n",
       "      <td>15</td>\n",
       "      <td>3250917</td>\n",
       "      <td>8185</td>\n",
       "      <td>615</td>\n",
       "    </tr>\n",
       "    <tr>\n",
       "      <th>145</th>\n",
       "      <td>1.0</td>\n",
       "      <td>13</td>\n",
       "      <td>5592977</td>\n",
       "      <td>15464</td>\n",
       "      <td>1513</td>\n",
       "    </tr>\n",
       "    <tr>\n",
       "      <th>146</th>\n",
       "      <td>1.0</td>\n",
       "      <td>32</td>\n",
       "      <td>2316047</td>\n",
       "      <td>4289</td>\n",
       "      <td>807</td>\n",
       "    </tr>\n",
       "    <tr>\n",
       "      <th>147</th>\n",
       "      <td>1.0</td>\n",
       "      <td>5</td>\n",
       "      <td>4674795</td>\n",
       "      <td>3706</td>\n",
       "      <td>762</td>\n",
       "    </tr>\n",
       "    <tr>\n",
       "      <th>148</th>\n",
       "      <td>1.0</td>\n",
       "      <td>150</td>\n",
       "      <td>4740727</td>\n",
       "      <td>13466</td>\n",
       "      <td>2649</td>\n",
       "    </tr>\n",
       "  </tbody>\n",
       "</table>\n",
       "<p>149 rows × 5 columns</p>\n",
       "</div>"
      ],
      "text/plain": [
       "     const  Budget  Youtubeviews  Youtubelikes  Youtubedislikes\n",
       "0      1.0      36       8576361         26622             2527\n",
       "1      1.0      10       1087320          1129              137\n",
       "2      1.0      10        572336           586               54\n",
       "3      1.0       7         42626            86               19\n",
       "4      1.0      18       3113427          4512             1224\n",
       "..     ...     ...           ...           ...              ...\n",
       "144    1.0      15       3250917          8185              615\n",
       "145    1.0      13       5592977         15464             1513\n",
       "146    1.0      32       2316047          4289              807\n",
       "147    1.0       5       4674795          3706              762\n",
       "148    1.0     150       4740727         13466             2649\n",
       "\n",
       "[149 rows x 5 columns]"
      ]
     },
     "execution_count": 51,
     "metadata": {},
     "output_type": "execute_result"
    }
   ],
   "source": [
    "x = sm.add_constant(bol[['Budget','Youtubeviews','Youtubelikes','Youtubedislikes']])\n",
    "x"
   ]
  },
  {
   "cell_type": "markdown",
   "id": "d6326f1c",
   "metadata": {},
   "source": [
    "## Declaring Dependent variable"
   ]
  },
  {
   "cell_type": "code",
   "execution_count": 50,
   "id": "63249959",
   "metadata": {},
   "outputs": [
    {
     "data": {
      "text/plain": [
       "0      104.00\n",
       "1       12.00\n",
       "2        4.00\n",
       "3        0.35\n",
       "4       10.80\n",
       "        ...  \n",
       "144     30.00\n",
       "145     32.10\n",
       "146     12.00\n",
       "147     11.89\n",
       "148    120.00\n",
       "Name: BoxOfficecollection, Length: 149, dtype: float64"
      ]
     },
     "execution_count": 50,
     "metadata": {},
     "output_type": "execute_result"
    }
   ],
   "source": [
    "y=bol['BoxOfficecollection']\n",
    "y"
   ]
  },
  {
   "cell_type": "markdown",
   "id": "4e6159c1",
   "metadata": {},
   "source": [
    "## Training and Testing Set Creation. Here 70% data is used for training the model and 30% is used for Testing"
   ]
  },
  {
   "cell_type": "code",
   "execution_count": 53,
   "id": "8e353dcc",
   "metadata": {},
   "outputs": [],
   "source": [
    "train_x, test_x,train_y, test_y = train_test_split(x,y,train_size=0.7,random_state=100)"
   ]
  },
  {
   "cell_type": "markdown",
   "id": "1a134213",
   "metadata": {},
   "source": [
    "## Model Fitting Using Ordinary least squares Method"
   ]
  },
  {
   "cell_type": "code",
   "execution_count": 55,
   "id": "b454cdb1",
   "metadata": {},
   "outputs": [],
   "source": [
    "bol_b=sm.OLS(train_y, train_x).fit()"
   ]
  },
  {
   "cell_type": "markdown",
   "id": "38c8fa9f",
   "metadata": {},
   "source": [
    "## Parameter Estimation"
   ]
  },
  {
   "cell_type": "code",
   "execution_count": 56,
   "id": "b86a9c0f",
   "metadata": {},
   "outputs": [
    {
     "name": "stdout",
     "output_type": "stream",
     "text": [
      "const             -0.62\n",
      "Budget             1.49\n",
      "Youtubeviews      -0.00\n",
      "Youtubelikes       0.00\n",
      "Youtubedislikes   -0.01\n",
      "dtype: float64\n"
     ]
    }
   ],
   "source": [
    "print(bol_b.params.round(2))"
   ]
  },
  {
   "cell_type": "code",
   "execution_count": 32,
   "id": "96f9ccf2",
   "metadata": {},
   "outputs": [],
   "source": [
    "# Parameter Estimation, Youtubedislike has an inverse relation with BoxOffice Collection this indicates that 1% change in youtubedislikes would decrease the boxoffice collection by Rs -0.01\n",
    "# Parameter Estimation, Budget has a direct relation with BoxOffice Collection indicating that 1% change in budget would increase the boxoffice collection by Rs 1.49"
   ]
  },
  {
   "cell_type": "markdown",
   "id": "1ebd518c",
   "metadata": {},
   "source": [
    "## Summary of Regression Results"
   ]
  },
  {
   "cell_type": "code",
   "execution_count": 57,
   "id": "9fc0b552",
   "metadata": {},
   "outputs": [
    {
     "data": {
      "text/html": [
       "<table class=\"simpletable\">\n",
       "<caption>OLS Regression Results</caption>\n",
       "<tr>\n",
       "  <th>Dep. Variable:</th>    <td>BoxOfficecollection</td> <th>  R-squared:         </th> <td>   0.644</td>\n",
       "</tr>\n",
       "<tr>\n",
       "  <th>Model:</th>                    <td>OLS</td>         <th>  Adj. R-squared:    </th> <td>   0.630</td>\n",
       "</tr>\n",
       "<tr>\n",
       "  <th>Method:</th>              <td>Least Squares</td>    <th>  F-statistic:       </th> <td>   44.76</td>\n",
       "</tr>\n",
       "<tr>\n",
       "  <th>Date:</th>              <td>Fri, 06 Oct 2023</td>   <th>  Prob (F-statistic):</th> <td>2.08e-21</td>\n",
       "</tr>\n",
       "<tr>\n",
       "  <th>Time:</th>                  <td>14:15:42</td>       <th>  Log-Likelihood:    </th> <td> -534.12</td>\n",
       "</tr>\n",
       "<tr>\n",
       "  <th>No. Observations:</th>       <td>   104</td>        <th>  AIC:               </th> <td>   1078.</td>\n",
       "</tr>\n",
       "<tr>\n",
       "  <th>Df Residuals:</th>           <td>    99</td>        <th>  BIC:               </th> <td>   1091.</td>\n",
       "</tr>\n",
       "<tr>\n",
       "  <th>Df Model:</th>               <td>     4</td>        <th>                     </th>     <td> </td>   \n",
       "</tr>\n",
       "<tr>\n",
       "  <th>Covariance Type:</th>       <td>nonrobust</td>      <th>                     </th>     <td> </td>   \n",
       "</tr>\n",
       "</table>\n",
       "<table class=\"simpletable\">\n",
       "<tr>\n",
       "         <td></td>            <th>coef</th>     <th>std err</th>      <th>t</th>      <th>P>|t|</th>  <th>[0.025</th>    <th>0.975]</th>  \n",
       "</tr>\n",
       "<tr>\n",
       "  <th>const</th>           <td>   -0.6184</td> <td>    7.045</td> <td>   -0.088</td> <td> 0.930</td> <td>  -14.598</td> <td>   13.361</td>\n",
       "</tr>\n",
       "<tr>\n",
       "  <th>Budget</th>          <td>    1.4891</td> <td>    0.256</td> <td>    5.809</td> <td> 0.000</td> <td>    0.980</td> <td>    1.998</td>\n",
       "</tr>\n",
       "<tr>\n",
       "  <th>Youtubeviews</th>    <td>-3.628e-06</td> <td> 3.17e-06</td> <td>   -1.143</td> <td> 0.256</td> <td>-9.92e-06</td> <td> 2.67e-06</td>\n",
       "</tr>\n",
       "<tr>\n",
       "  <th>Youtubelikes</th>    <td>    0.0043</td> <td>    0.001</td> <td>    5.765</td> <td> 0.000</td> <td>    0.003</td> <td>    0.006</td>\n",
       "</tr>\n",
       "<tr>\n",
       "  <th>Youtubedislikes</th> <td>   -0.0131</td> <td>    0.006</td> <td>   -2.287</td> <td> 0.024</td> <td>   -0.024</td> <td>   -0.002</td>\n",
       "</tr>\n",
       "</table>\n",
       "<table class=\"simpletable\">\n",
       "<tr>\n",
       "  <th>Omnibus:</th>       <td>101.067</td> <th>  Durbin-Watson:     </th> <td>   1.986</td> \n",
       "</tr>\n",
       "<tr>\n",
       "  <th>Prob(Omnibus):</th> <td> 0.000</td>  <th>  Jarque-Bera (JB):  </th> <td>1225.667</td> \n",
       "</tr>\n",
       "<tr>\n",
       "  <th>Skew:</th>          <td> 3.195</td>  <th>  Prob(JB):          </th> <td>7.08e-267</td>\n",
       "</tr>\n",
       "<tr>\n",
       "  <th>Kurtosis:</th>      <td>18.556</td>  <th>  Cond. No.          </th> <td>7.70e+06</td> \n",
       "</tr>\n",
       "</table><br/><br/>Notes:<br/>[1] Standard Errors assume that the covariance matrix of the errors is correctly specified.<br/>[2] The condition number is large, 7.7e+06. This might indicate that there are<br/>strong multicollinearity or other numerical problems."
      ],
      "text/plain": [
       "<class 'statsmodels.iolib.summary.Summary'>\n",
       "\"\"\"\n",
       "                             OLS Regression Results                            \n",
       "===============================================================================\n",
       "Dep. Variable:     BoxOfficecollection   R-squared:                       0.644\n",
       "Model:                             OLS   Adj. R-squared:                  0.630\n",
       "Method:                  Least Squares   F-statistic:                     44.76\n",
       "Date:                 Fri, 06 Oct 2023   Prob (F-statistic):           2.08e-21\n",
       "Time:                         14:15:42   Log-Likelihood:                -534.12\n",
       "No. Observations:                  104   AIC:                             1078.\n",
       "Df Residuals:                       99   BIC:                             1091.\n",
       "Df Model:                            4                                         \n",
       "Covariance Type:             nonrobust                                         \n",
       "===================================================================================\n",
       "                      coef    std err          t      P>|t|      [0.025      0.975]\n",
       "-----------------------------------------------------------------------------------\n",
       "const              -0.6184      7.045     -0.088      0.930     -14.598      13.361\n",
       "Budget              1.4891      0.256      5.809      0.000       0.980       1.998\n",
       "Youtubeviews    -3.628e-06   3.17e-06     -1.143      0.256   -9.92e-06    2.67e-06\n",
       "Youtubelikes        0.0043      0.001      5.765      0.000       0.003       0.006\n",
       "Youtubedislikes    -0.0131      0.006     -2.287      0.024      -0.024      -0.002\n",
       "==============================================================================\n",
       "Omnibus:                      101.067   Durbin-Watson:                   1.986\n",
       "Prob(Omnibus):                  0.000   Jarque-Bera (JB):             1225.667\n",
       "Skew:                           3.195   Prob(JB):                    7.08e-267\n",
       "Kurtosis:                      18.556   Cond. No.                     7.70e+06\n",
       "==============================================================================\n",
       "\n",
       "Notes:\n",
       "[1] Standard Errors assume that the covariance matrix of the errors is correctly specified.\n",
       "[2] The condition number is large, 7.7e+06. This might indicate that there are\n",
       "strong multicollinearity or other numerical problems.\n",
       "\"\"\""
      ]
     },
     "execution_count": 57,
     "metadata": {},
     "output_type": "execute_result"
    }
   ],
   "source": [
    "bol_b.summary()"
   ]
  },
  {
   "cell_type": "code",
   "execution_count": 34,
   "id": "8933680b",
   "metadata": {},
   "outputs": [],
   "source": [
    "#Independent variables are explaining the dependent variable by 63%"
   ]
  },
  {
   "cell_type": "markdown",
   "id": "21bafe34",
   "metadata": {},
   "source": [
    "## Predicting the Box Office Collection of the Test Set and Sorting Descending"
   ]
  },
  {
   "cell_type": "code",
   "execution_count": 35,
   "id": "e0479f0a",
   "metadata": {},
   "outputs": [
    {
     "name": "stdout",
     "output_type": "stream",
     "text": [
      "Predicted Box Office Collection\n"
     ]
    },
    {
     "data": {
      "text/plain": [
       "119    240.970546\n",
       "148    228.797223\n",
       "89     191.544964\n",
       "26     189.604981\n",
       "41     181.600319\n",
       "116    139.784328\n",
       "115    117.597961\n",
       "16      87.292698\n",
       "12      79.097332\n",
       "75      76.809628\n",
       "118     75.285433\n",
       "90      71.714651\n",
       "114     69.174036\n",
       "134     67.846446\n",
       "73      56.944964\n",
       "45      54.362992\n",
       "145     45.156037\n",
       "69      42.956392\n",
       "123     42.601134\n",
       "102     41.264947\n",
       "37      38.823184\n",
       "77      38.542045\n",
       "97      38.497648\n",
       "144     37.076338\n",
       "62      34.608038\n",
       "32      27.605216\n",
       "135     24.114085\n",
       "112     20.818737\n",
       "125     20.132066\n",
       "81      20.106071\n",
       "40      19.436140\n",
       "29      17.678825\n",
       "20      16.615787\n",
       "120     16.587710\n",
       "109     14.141189\n",
       "1       13.390536\n",
       "128     12.536409\n",
       "51       8.524362\n",
       "46       8.292383\n",
       "99       7.956682\n",
       "31       7.399750\n",
       "11       5.283256\n",
       "15       5.086096\n",
       "122      3.754694\n",
       "28     -33.623150\n",
       "dtype: float64"
      ]
     },
     "execution_count": 35,
     "metadata": {},
     "output_type": "execute_result"
    }
   ],
   "source": [
    "print(\"Predicted Box Office Collection\")\n",
    "Predicted=bol_b.predict(test_x).sort_values(ascending=False)\n",
    "Predicted\n",
    "#test_x is used as test input data to check how well the model can perform in new dataset "
   ]
  },
  {
   "cell_type": "markdown",
   "id": "f77bcc4b",
   "metadata": {},
   "source": [
    "## Residual Calculation"
   ]
  },
  {
   "cell_type": "code",
   "execution_count": 36,
   "id": "a0de64df",
   "metadata": {},
   "outputs": [
    {
     "name": "stdout",
     "output_type": "stream",
     "text": [
      "Residual Or Error Calculation\n"
     ]
    },
    {
     "data": {
      "text/html": [
       "<div>\n",
       "<style scoped>\n",
       "    .dataframe tbody tr th:only-of-type {\n",
       "        vertical-align: middle;\n",
       "    }\n",
       "\n",
       "    .dataframe tbody tr th {\n",
       "        vertical-align: top;\n",
       "    }\n",
       "\n",
       "    .dataframe thead th {\n",
       "        text-align: right;\n",
       "    }\n",
       "</style>\n",
       "<table border=\"1\" class=\"dataframe\">\n",
       "  <thead>\n",
       "    <tr style=\"text-align: right;\">\n",
       "      <th></th>\n",
       "      <th>Actual</th>\n",
       "      <th>Predicted</th>\n",
       "      <th>Residual</th>\n",
       "    </tr>\n",
       "  </thead>\n",
       "  <tbody>\n",
       "    <tr>\n",
       "      <th>89</th>\n",
       "      <td>735.00</td>\n",
       "      <td>191.544964</td>\n",
       "      <td>543.455036</td>\n",
       "    </tr>\n",
       "    <tr>\n",
       "      <th>115</th>\n",
       "      <td>395.00</td>\n",
       "      <td>117.597961</td>\n",
       "      <td>277.402039</td>\n",
       "    </tr>\n",
       "    <tr>\n",
       "      <th>26</th>\n",
       "      <td>383.00</td>\n",
       "      <td>189.604981</td>\n",
       "      <td>193.395019</td>\n",
       "    </tr>\n",
       "    <tr>\n",
       "      <th>37</th>\n",
       "      <td>130.00</td>\n",
       "      <td>38.823184</td>\n",
       "      <td>91.176816</td>\n",
       "    </tr>\n",
       "    <tr>\n",
       "      <th>16</th>\n",
       "      <td>162.00</td>\n",
       "      <td>87.292698</td>\n",
       "      <td>74.707302</td>\n",
       "    </tr>\n",
       "    <tr>\n",
       "      <th>135</th>\n",
       "      <td>85.00</td>\n",
       "      <td>24.114085</td>\n",
       "      <td>60.885915</td>\n",
       "    </tr>\n",
       "    <tr>\n",
       "      <th>28</th>\n",
       "      <td>27.16</td>\n",
       "      <td>-33.623150</td>\n",
       "      <td>60.783150</td>\n",
       "    </tr>\n",
       "    <tr>\n",
       "      <th>119</th>\n",
       "      <td>300.00</td>\n",
       "      <td>240.970546</td>\n",
       "      <td>59.029454</td>\n",
       "    </tr>\n",
       "    <tr>\n",
       "      <th>32</th>\n",
       "      <td>65.00</td>\n",
       "      <td>27.605216</td>\n",
       "      <td>37.394784</td>\n",
       "    </tr>\n",
       "    <tr>\n",
       "      <th>90</th>\n",
       "      <td>100.00</td>\n",
       "      <td>71.714651</td>\n",
       "      <td>28.285349</td>\n",
       "    </tr>\n",
       "    <tr>\n",
       "      <th>128</th>\n",
       "      <td>40.00</td>\n",
       "      <td>12.536409</td>\n",
       "      <td>27.463591</td>\n",
       "    </tr>\n",
       "    <tr>\n",
       "      <th>12</th>\n",
       "      <td>105.50</td>\n",
       "      <td>79.097332</td>\n",
       "      <td>26.402668</td>\n",
       "    </tr>\n",
       "    <tr>\n",
       "      <th>99</th>\n",
       "      <td>29.00</td>\n",
       "      <td>7.956682</td>\n",
       "      <td>21.043318</td>\n",
       "    </tr>\n",
       "    <tr>\n",
       "      <th>69</th>\n",
       "      <td>61.00</td>\n",
       "      <td>42.956392</td>\n",
       "      <td>18.043608</td>\n",
       "    </tr>\n",
       "    <tr>\n",
       "      <th>31</th>\n",
       "      <td>25.00</td>\n",
       "      <td>7.399750</td>\n",
       "      <td>17.600250</td>\n",
       "    </tr>\n",
       "    <tr>\n",
       "      <th>62</th>\n",
       "      <td>45.00</td>\n",
       "      <td>34.608038</td>\n",
       "      <td>10.391962</td>\n",
       "    </tr>\n",
       "    <tr>\n",
       "      <th>11</th>\n",
       "      <td>10.25</td>\n",
       "      <td>5.283256</td>\n",
       "      <td>4.966744</td>\n",
       "    </tr>\n",
       "    <tr>\n",
       "      <th>46</th>\n",
       "      <td>11.00</td>\n",
       "      <td>8.292383</td>\n",
       "      <td>2.707617</td>\n",
       "    </tr>\n",
       "    <tr>\n",
       "      <th>40</th>\n",
       "      <td>22.00</td>\n",
       "      <td>19.436140</td>\n",
       "      <td>2.563860</td>\n",
       "    </tr>\n",
       "    <tr>\n",
       "      <th>51</th>\n",
       "      <td>8.78</td>\n",
       "      <td>8.524362</td>\n",
       "      <td>0.255638</td>\n",
       "    </tr>\n",
       "    <tr>\n",
       "      <th>1</th>\n",
       "      <td>12.00</td>\n",
       "      <td>13.390536</td>\n",
       "      <td>-1.390536</td>\n",
       "    </tr>\n",
       "    <tr>\n",
       "      <th>122</th>\n",
       "      <td>2.00</td>\n",
       "      <td>3.754694</td>\n",
       "      <td>-1.754694</td>\n",
       "    </tr>\n",
       "    <tr>\n",
       "      <th>120</th>\n",
       "      <td>12.00</td>\n",
       "      <td>16.587710</td>\n",
       "      <td>-4.587710</td>\n",
       "    </tr>\n",
       "    <tr>\n",
       "      <th>15</th>\n",
       "      <td>0.09</td>\n",
       "      <td>5.086096</td>\n",
       "      <td>-4.996096</td>\n",
       "    </tr>\n",
       "    <tr>\n",
       "      <th>81</th>\n",
       "      <td>13.80</td>\n",
       "      <td>20.106071</td>\n",
       "      <td>-6.306071</td>\n",
       "    </tr>\n",
       "    <tr>\n",
       "      <th>144</th>\n",
       "      <td>30.00</td>\n",
       "      <td>37.076338</td>\n",
       "      <td>-7.076338</td>\n",
       "    </tr>\n",
       "    <tr>\n",
       "      <th>29</th>\n",
       "      <td>10.00</td>\n",
       "      <td>17.678825</td>\n",
       "      <td>-7.678825</td>\n",
       "    </tr>\n",
       "    <tr>\n",
       "      <th>109</th>\n",
       "      <td>5.00</td>\n",
       "      <td>14.141189</td>\n",
       "      <td>-9.141189</td>\n",
       "    </tr>\n",
       "    <tr>\n",
       "      <th>97</th>\n",
       "      <td>28.00</td>\n",
       "      <td>38.497648</td>\n",
       "      <td>-10.497648</td>\n",
       "    </tr>\n",
       "    <tr>\n",
       "      <th>125</th>\n",
       "      <td>7.50</td>\n",
       "      <td>20.132066</td>\n",
       "      <td>-12.632066</td>\n",
       "    </tr>\n",
       "    <tr>\n",
       "      <th>20</th>\n",
       "      <td>3.65</td>\n",
       "      <td>16.615787</td>\n",
       "      <td>-12.965787</td>\n",
       "    </tr>\n",
       "    <tr>\n",
       "      <th>145</th>\n",
       "      <td>32.10</td>\n",
       "      <td>45.156037</td>\n",
       "      <td>-13.056037</td>\n",
       "    </tr>\n",
       "    <tr>\n",
       "      <th>118</th>\n",
       "      <td>60.00</td>\n",
       "      <td>75.285433</td>\n",
       "      <td>-15.285433</td>\n",
       "    </tr>\n",
       "    <tr>\n",
       "      <th>114</th>\n",
       "      <td>53.00</td>\n",
       "      <td>69.174036</td>\n",
       "      <td>-16.174036</td>\n",
       "    </tr>\n",
       "    <tr>\n",
       "      <th>112</th>\n",
       "      <td>4.00</td>\n",
       "      <td>20.818737</td>\n",
       "      <td>-16.818737</td>\n",
       "    </tr>\n",
       "    <tr>\n",
       "      <th>45</th>\n",
       "      <td>36.00</td>\n",
       "      <td>54.362992</td>\n",
       "      <td>-18.362992</td>\n",
       "    </tr>\n",
       "    <tr>\n",
       "      <th>73</th>\n",
       "      <td>29.60</td>\n",
       "      <td>56.944964</td>\n",
       "      <td>-27.344964</td>\n",
       "    </tr>\n",
       "    <tr>\n",
       "      <th>77</th>\n",
       "      <td>11.00</td>\n",
       "      <td>38.542045</td>\n",
       "      <td>-27.542045</td>\n",
       "    </tr>\n",
       "    <tr>\n",
       "      <th>123</th>\n",
       "      <td>12.65</td>\n",
       "      <td>42.601134</td>\n",
       "      <td>-29.951134</td>\n",
       "    </tr>\n",
       "    <tr>\n",
       "      <th>134</th>\n",
       "      <td>34.00</td>\n",
       "      <td>67.846446</td>\n",
       "      <td>-33.846446</td>\n",
       "    </tr>\n",
       "    <tr>\n",
       "      <th>102</th>\n",
       "      <td>4.00</td>\n",
       "      <td>41.264947</td>\n",
       "      <td>-37.264947</td>\n",
       "    </tr>\n",
       "    <tr>\n",
       "      <th>75</th>\n",
       "      <td>37.80</td>\n",
       "      <td>76.809628</td>\n",
       "      <td>-39.009628</td>\n",
       "    </tr>\n",
       "    <tr>\n",
       "      <th>116</th>\n",
       "      <td>80.00</td>\n",
       "      <td>139.784328</td>\n",
       "      <td>-59.784328</td>\n",
       "    </tr>\n",
       "    <tr>\n",
       "      <th>41</th>\n",
       "      <td>111.00</td>\n",
       "      <td>181.600319</td>\n",
       "      <td>-70.600319</td>\n",
       "    </tr>\n",
       "    <tr>\n",
       "      <th>148</th>\n",
       "      <td>120.00</td>\n",
       "      <td>228.797223</td>\n",
       "      <td>-108.797223</td>\n",
       "    </tr>\n",
       "  </tbody>\n",
       "</table>\n",
       "</div>"
      ],
      "text/plain": [
       "     Actual   Predicted    Residual\n",
       "89   735.00  191.544964  543.455036\n",
       "115  395.00  117.597961  277.402039\n",
       "26   383.00  189.604981  193.395019\n",
       "37   130.00   38.823184   91.176816\n",
       "16   162.00   87.292698   74.707302\n",
       "135   85.00   24.114085   60.885915\n",
       "28    27.16  -33.623150   60.783150\n",
       "119  300.00  240.970546   59.029454\n",
       "32    65.00   27.605216   37.394784\n",
       "90   100.00   71.714651   28.285349\n",
       "128   40.00   12.536409   27.463591\n",
       "12   105.50   79.097332   26.402668\n",
       "99    29.00    7.956682   21.043318\n",
       "69    61.00   42.956392   18.043608\n",
       "31    25.00    7.399750   17.600250\n",
       "62    45.00   34.608038   10.391962\n",
       "11    10.25    5.283256    4.966744\n",
       "46    11.00    8.292383    2.707617\n",
       "40    22.00   19.436140    2.563860\n",
       "51     8.78    8.524362    0.255638\n",
       "1     12.00   13.390536   -1.390536\n",
       "122    2.00    3.754694   -1.754694\n",
       "120   12.00   16.587710   -4.587710\n",
       "15     0.09    5.086096   -4.996096\n",
       "81    13.80   20.106071   -6.306071\n",
       "144   30.00   37.076338   -7.076338\n",
       "29    10.00   17.678825   -7.678825\n",
       "109    5.00   14.141189   -9.141189\n",
       "97    28.00   38.497648  -10.497648\n",
       "125    7.50   20.132066  -12.632066\n",
       "20     3.65   16.615787  -12.965787\n",
       "145   32.10   45.156037  -13.056037\n",
       "118   60.00   75.285433  -15.285433\n",
       "114   53.00   69.174036  -16.174036\n",
       "112    4.00   20.818737  -16.818737\n",
       "45    36.00   54.362992  -18.362992\n",
       "73    29.60   56.944964  -27.344964\n",
       "77    11.00   38.542045  -27.542045\n",
       "123   12.65   42.601134  -29.951134\n",
       "134   34.00   67.846446  -33.846446\n",
       "102    4.00   41.264947  -37.264947\n",
       "75    37.80   76.809628  -39.009628\n",
       "116   80.00  139.784328  -59.784328\n",
       "41   111.00  181.600319  -70.600319\n",
       "148  120.00  228.797223 -108.797223"
      ]
     },
     "execution_count": 36,
     "metadata": {},
     "output_type": "execute_result"
    }
   ],
   "source": [
    "residual=test_y-Predicted\n",
    "residual_1=pd.DataFrame({'Actual':test_y,'Predicted':Predicted,'Residual':residual}).sort_values('Residual',ascending=False)\n",
    "print(\"Residual Or Error Calculation\")\n",
    "residual_1\n",
    "#Test input data is compared with the target  variable to check the fitness of the model like how accurately\n",
    "#it is predicting the target variable"
   ]
  },
  {
   "cell_type": "markdown",
   "id": "047506d1",
   "metadata": {},
   "source": [
    "## Scatter Plot to Show the Distribution of the Residual Values"
   ]
  },
  {
   "cell_type": "code",
   "execution_count": 37,
   "id": "a9004dd4",
   "metadata": {},
   "outputs": [
    {
     "data": {
      "image/png": "[encoded data removed]",
      "text/plain": [
       "<Figure size 640x480 with 1 Axes>"
      ]
     },
     "metadata": {},
     "output_type": "display_data"
    }
   ],
   "source": [
    "c9=residual_1.groupby('Predicted')['Residual'].sum().reset_index()\n",
    "plt.scatter(Predicted,residual)\n",
    "plt.xlabel('Predicted Box Office Collection')\n",
    "plt.ylabel('Residual')\n",
    "plt.title('Residual Distribution')\n",
    "plt.show()"
   ]
  },
  {
   "cell_type": "code",
   "execution_count": null,
   "id": "acf914cb",
   "metadata": {},
   "outputs": [],
   "source": []
  },
  {
   "cell_type": "code",
   "execution_count": null,
   "id": "35139625",
   "metadata": {},
   "outputs": [],
   "source": []
  }
 ],
 "metadata": {
  "kernelspec": {
   "display_name": "Python 3 (ipykernel)",
   "language": "python",
   "name": "python3"
  },
  "language_info": {
   "codemirror_mode": {
    "name": "ipython",
    "version": 3
   },
   "file_extension": ".py",
   "mimetype": "text/x-python",
   "name": "python",
   "nbconvert_exporter": "python",
   "pygments_lexer": "ipython3",
   "version": "3.11.3"
  }
 },
 "nbformat": 4,
 "nbformat_minor": 5
}
